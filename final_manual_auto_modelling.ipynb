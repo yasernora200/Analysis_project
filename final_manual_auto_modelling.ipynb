{
 "cells": [
  {
   "cell_type": "code",
   "execution_count": null,
   "id": "5ef8fa61",
   "metadata": {},
   "outputs": [],
   "source": [
    "import pandas as pd\n",
    "import pickle\n",
    "from sklearn.model_selection import train_test_split\n",
    "from sklearn.metrics import (\n",
    "    accuracy_score, f1_score, precision_score, recall_score,\n",
    "    mean_squared_error, mean_absolute_error, r2_score\n",
    ")\n",
    "from sklearn.ensemble import RandomForestClassifier, RandomForestRegressor\n",
    "from sklearn.linear_model import LogisticRegression, LinearRegression\n",
    "from sklearn.neighbors import KNeighborsClassifier, KNeighborsRegressor\n",
    "from sklearn.svm import SVC, SVR\n",
    "from xgboost import XGBClassifier, XGBRegressor\n",
    "from sklearn.preprocessing import LabelEncoder\n",
    "\n",
    "from pandas.api.types import is_numeric_dtype\n",
    "import warnings\n",
    "\n",
    "warnings.filterwarnings(\"ignore\")"
   ]
  },
  {
   "cell_type": "code",
   "execution_count": null,
   "id": "a37f679e",
   "metadata": {},
   "outputs": [],
   "source": [
    "# 1. تحميل البيانات\n",
    "def load_data(uploaded_file):\n",
    "    df = pd.read_csv(uploaded_file)\n",
    "    return df\n"
   ]
  },
  {
   "cell_type": "code",
   "execution_count": null,
   "id": "b84bcaa0",
   "metadata": {},
   "outputs": [],
   "source": [
    "# 2. تحدد بشكل تلقائي الداتا اللي حملها تندرج تحت ال classification or regression \n",
    "def detect_task_type(df, target_column):\n",
    "    if is_numeric_dtype(df[target_column]) and df[target_column].nunique() > 10:\n",
    "        return \"regression\"\n",
    "    return \"classification\""
   ]
  },
  {
   "cell_type": "code",
   "execution_count": null,
   "id": "3c20d1fb",
   "metadata": {},
   "outputs": [],
   "source": [
    "# 3.   تجهيز البيانات عشان يعرف يشتغل عليها المودل\n",
    "def prepare_data(df, target_column):\n",
    "    X = df.drop(columns=[target_column])\n",
    "    y = df[target_column]\n",
    "    \n",
    "    if y.dtype == object:\n",
    "        le = LabelEncoder()\n",
    "        y = le.fit_transform(y)\n",
    "\n",
    "    X = pd.get_dummies(X)\n",
    "    return train_test_split(X, y, test_size=0.2, random_state=42), X.columns.tolist()"
   ]
  },
  {
   "cell_type": "code",
   "execution_count": null,
   "id": "927386e0",
   "metadata": {},
   "outputs": [],
   "source": [
    "# 4. الحصول على الموديلات المناسبة\n",
    "def get_models(task):\n",
    "    if task == \"classification\":\n",
    "        return {\n",
    "            \"LogisticRegression\": LogisticRegression(),\n",
    "            \"RandomForest\": RandomForestClassifier(),\n",
    "            \"XGBoost\": XGBClassifier(use_label_encoder=False, eval_metric='logloss'),\n",
    "            \"SVM\": SVC(probability=True),\n",
    "            \"KNN\": KNeighborsClassifier()\n",
    "        }\n",
    "    else:\n",
    "        return {\n",
    "            \"LinearRegression\": LinearRegression(),\n",
    "            \"RandomForest\": RandomForestRegressor(),\n",
    "            \"XGBoost\": XGBRegressor(),\n",
    "            \"SVR\": SVR()\n",
    "        }"
   ]
  },
  {
   "cell_type": "code",
   "execution_count": null,
   "id": "df6ae054",
   "metadata": {},
   "outputs": [],
   "source": [
    "# 5. الحصول على المقاييس المتاحة\n",
    "def get_metrics(task):\n",
    "    if task == \"classification\":\n",
    "        return {\n",
    "            \"Accuracy\": accuracy_score,\n",
    "            \"F1 Score\": f1_score,\n",
    "            \"Precision\": precision_score,\n",
    "            \"Recall\": recall_score\n",
    "        }\n",
    "    else:\n",
    "        return {\n",
    "            \"MSE\": mean_squared_error,\n",
    "            \"MAE\": mean_absolute_error,\n",
    "            \"R2\": r2_score\n",
    "        }\n"
   ]
  },
  {
   "cell_type": "code",
   "execution_count": null,
   "id": "b18a3053",
   "metadata": {},
   "outputs": [],
   "source": [
    "\n",
    "# 6. تدريب موديل معين\n",
    "def train_single_model(model, X_train, y_train):\n",
    "    model.fit(X_train, y_train)\n",
    "    return model"
   ]
  },
  {
   "cell_type": "code",
   "execution_count": null,
   "id": "2e12f3f2",
   "metadata": {},
   "outputs": [],
   "source": [
    "\n",
    "# 7. تقييم موديل معين\n",
    "def evaluate_model(model, X_test, y_test, metric_func):\n",
    "    y_pred = model.predict(X_test)\n",
    "    if \"average\" in metric_func.__code__.co_varnames:\n",
    "        return metric_func(y_test, y_pred, average=\"macro\")\n",
    "    return metric_func(y_test, y_pred)"
   ]
  },
  {
   "cell_type": "code",
   "execution_count": null,
   "id": "26733258",
   "metadata": {},
   "outputs": [],
   "source": [
    "# 8. حفظ الموديل والخصائص\n",
    "def save_model(model, feature_columns, filename=\"best_model.pkl\"):\n",
    "    with open(filename, \"wb\") as f:\n",
    "        pickle.dump(model, f)\n",
    "    with open(\"feature_columns.pkl\", \"wb\") as f:\n",
    "        pickle.dump(feature_columns, f)"
   ]
  },
  {
   "cell_type": "code",
   "execution_count": null,
   "id": "af06b30d",
   "metadata": {},
   "outputs": [],
   "source": [
    "# 9. تحميل موديل محفوظ\n",
    "def load_model(filename=\"best_model.pkl\"):\n",
    "    with open(filename, \"rb\") as f:\n",
    "        model = pickle.load(f)\n",
    "    with open(\"feature_columns.pkl\", \"rb\") as f:\n",
    "        feature_columns = pickle.load(f)\n",
    "    return model, feature_columns"
   ]
  },
  {
   "cell_type": "code",
   "execution_count": null,
   "id": "5e420fdb",
   "metadata": {},
   "outputs": [],
   "source": [
    "# 10. التنبؤ ببيانات جديدة\n",
    "def predict_new_data(model, feature_columns, new_df):\n",
    "    new_data = pd.get_dummies(new_df)\n",
    "    for col in feature_columns:\n",
    "        if col not in new_data.columns:\n",
    "            new_data[col] = 0\n",
    "    new_data = new_data[feature_columns]\n",
    "    return model.predict(new_data)"
   ]
  },
  {
   "cell_type": "code",
   "execution_count": null,
   "id": "ae3f3a5a",
   "metadata": {},
   "outputs": [],
   "source": [
    "#ربنا ياخد الكلية"
   ]
  },
  {
   "cell_type": "code",
   "execution_count": null,
   "id": "174a4423",
   "metadata": {},
   "outputs": [],
   "source": [
    "#الفانكشن دي عشان تنتقي افضل مودل بشكل اوتوماتيك عشان لو اليوزر مش فاهم حاجة في الماشين\n",
    "def train_and_select_best_model(df, target_column):\n",
    "    task_type = detect_task_type(df, target_column)\n",
    "    (X_train, X_test, y_train, y_test), feature_columns = prepare_data(df, target_column)\n",
    "    models = get_models(task_type)\n",
    "    metrics = get_metrics(task_type)\n",
    "\n",
    "    best_score = None\n",
    "    best_model = None\n",
    "    best_model_name = \"\"\n",
    "    best_metric_name = \"\"\n",
    "\n",
    "    for model_name, model in models.items():\n",
    "        try:\n",
    "            model.fit(X_train, y_train)\n",
    "            for metric_name, metric_func in metrics.items():\n",
    "                score = evaluate_model(model, X_test, y_test, metric_func)\n",
    "\n",
    "                if task_type == \"regression\":\n",
    "                    score = -score if metric_name in [\"MSE\", \"MAE\"] else score\n",
    "\n",
    "                if best_score is None or score > best_score:\n",
    "                    best_score = score\n",
    "                    best_model = model\n",
    "                    best_model_name = model_name\n",
    "                    best_metric_name = metric_name\n",
    "        except:\n",
    "            continue\n",
    "\n",
    "    with open(\"best_model.pkl\", \"wb\") as f:\n",
    "        pickle.dump(best_model, f)\n",
    "    with open(\"feature_columns.pkl\", \"wb\") as f:\n",
    "        pickle.dump(feature_columns, f)\n",
    "\n",
    "    return best_model_name, best_metric_name, best_score\n",
    "\n",
    "\n"
   ]
  },
  {
   "cell_type": "code",
   "execution_count": null,
   "id": "1cba9879",
   "metadata": {},
   "outputs": [],
   "source": [
    "#ودي مرتبطة بالفانكشن اللي فوقها عشان تتنبأ بناءا علي المودل اللي تم اختياره بشكل اتوماتيكي\n",
    "def predict_with_best_model(new_df):\n",
    "    with open(\"best_model.pkl\", \"rb\") as f:\n",
    "        model = pickle.load(f)\n",
    "    with open(\"feature_columns.pkl\", \"rb\") as f:\n",
    "        feature_columns = pickle.load(f)\n",
    "\n",
    "    new_data = pd.get_dummies(new_df)\n",
    "    for col in feature_columns:\n",
    "        if col not in new_data.columns:\n",
    "            new_data[col] = 0\n",
    "    new_data = new_data[feature_columns]\n",
    "    return model.predict(new_data)\n"
   ]
  },
  {
   "cell_type": "code",
   "execution_count": null,
   "id": "63a41adb",
   "metadata": {},
   "outputs": [],
   "source": [
    "#الحمد لله الذي هدانا لهذا وما كنا لنهتدي لولا ان هدانا الله\n",
    "#بحبكو ياشوباب ومنكو لله"
   ]
  }
 ],
 "metadata": {
  "kernelspec": {
   "display_name": "Python 3",
   "language": "python",
   "name": "python3"
  },
  "language_info": {
   "name": "python",
   "version": "3.12.4"
  }
 },
 "nbformat": 4,
 "nbformat_minor": 5
}
